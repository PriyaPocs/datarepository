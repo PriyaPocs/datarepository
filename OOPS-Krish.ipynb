{
  "cells": [
    {
      "cell_type": "markdown",
      "metadata": {
        "id": "view-in-github",
        "colab_type": "text"
      },
      "source": [
        "<a href=\"https://colab.research.google.com/github/PriyaPocs/datarepository/blob/main/OOPS-Krish.ipynb\" target=\"_parent\"><img src=\"https://colab.research.google.com/assets/colab-badge.svg\" alt=\"Open In Colab\"/></a>"
      ]
    },
    {
      "cell_type": "markdown",
      "metadata": {
        "id": "ORjLrNxg7r6Q"
      },
      "source": [
        "## Classes"
      ]
    },
    {
      "cell_type": "code",
      "execution_count": null,
      "metadata": {
        "id": "iwB8_dPQ7r6T"
      },
      "outputs": [],
      "source": [
        "## Empty class\n",
        "class Person:\n",
        "    pass"
      ]
    },
    {
      "cell_type": "code",
      "execution_count": null,
      "metadata": {
        "id": "buZ8HrZ_7r6V"
      },
      "outputs": [],
      "source": [
        "a=list()"
      ]
    },
    {
      "cell_type": "code",
      "execution_count": null,
      "metadata": {
        "id": "RMti3N3_7r6V",
        "outputId": "cffeb1ab-b5fc-40bd-f259-c1e2b4503a07"
      },
      "outputs": [
        {
          "data": {
            "text/plain": [
              "list"
            ]
          },
          "execution_count": 11,
          "metadata": {},
          "output_type": "execute_result"
        }
      ],
      "source": [
        "type(a)"
      ]
    },
    {
      "cell_type": "code",
      "execution_count": null,
      "metadata": {
        "id": "PgFdjb207r6W"
      },
      "outputs": [],
      "source": [
        "#perosn1 iss  an object or instance\n",
        "person1=Person()"
      ]
    },
    {
      "cell_type": "code",
      "execution_count": null,
      "metadata": {
        "id": "8jQn_MA87r6X",
        "outputId": "7a934efc-ba72-4fce-be28-4e6783c0e26f"
      },
      "outputs": [
        {
          "name": "stdout",
          "output_type": "stream",
          "text": [
            "<__main__.Person object at 0x0000018899887250>\n"
          ]
        }
      ],
      "source": [
        "print(person1)"
      ]
    },
    {
      "cell_type": "code",
      "execution_count": null,
      "metadata": {
        "id": "xo1lXWhY7r6X"
      },
      "outputs": [],
      "source": [
        "person1.name=\"KRish\""
      ]
    },
    {
      "cell_type": "code",
      "execution_count": null,
      "metadata": {
        "id": "gSosklj57r6Y",
        "outputId": "07dc6d99-7845-45b0-ee47-6a99991265fa"
      },
      "outputs": [
        {
          "name": "stdout",
          "output_type": "stream",
          "text": [
            "KRish\n"
          ]
        }
      ],
      "source": [
        "print(person1.name)"
      ]
    },
    {
      "cell_type": "code",
      "execution_count": null,
      "metadata": {
        "id": "RekQBObw7r6Y"
      },
      "outputs": [],
      "source": [
        "person1.lastname=\"Naik\""
      ]
    },
    {
      "cell_type": "code",
      "execution_count": null,
      "metadata": {
        "id": "rhsTo9-f7r6Z"
      },
      "outputs": [],
      "source": [
        "person1=Person()"
      ]
    },
    {
      "cell_type": "code",
      "execution_count": null,
      "metadata": {
        "id": "LfKQ1GzO7r6Z",
        "outputId": "e95ba163-a228-4fb5-aa2b-9e48d65036f9"
      },
      "outputs": [
        {
          "data": {
            "text/plain": [
              "['__class__',\n",
              " '__delattr__',\n",
              " '__dict__',\n",
              " '__dir__',\n",
              " '__doc__',\n",
              " '__eq__',\n",
              " '__format__',\n",
              " '__ge__',\n",
              " '__getattribute__',\n",
              " '__gt__',\n",
              " '__hash__',\n",
              " '__init__',\n",
              " '__init_subclass__',\n",
              " '__le__',\n",
              " '__lt__',\n",
              " '__module__',\n",
              " '__ne__',\n",
              " '__new__',\n",
              " '__reduce__',\n",
              " '__reduce_ex__',\n",
              " '__repr__',\n",
              " '__setattr__',\n",
              " '__sizeof__',\n",
              " '__str__',\n",
              " '__subclasshook__',\n",
              " '__weakref__',\n",
              " 'lastname',\n",
              " 'name']"
            ]
          },
          "execution_count": 16,
          "metadata": {},
          "output_type": "execute_result"
        }
      ],
      "source": [
        "dir(person1)"
      ]
    },
    {
      "cell_type": "code",
      "execution_count": null,
      "metadata": {
        "id": "buEJ8Ps67r6Z"
      },
      "outputs": [],
      "source": [
        "class Person:\n",
        "    def __init__(self,name1,last_name1):\n",
        "        self.name=name1\n",
        "        self.last_name=last_name1\n",
        "\n",
        "\n",
        ""
      ]
    },
    {
      "cell_type": "code",
      "execution_count": null,
      "metadata": {
        "id": "C3MoxE687r6Z"
      },
      "outputs": [],
      "source": [
        "person=Person(\"Krish\",\"Naik\")"
      ]
    },
    {
      "cell_type": "code",
      "execution_count": null,
      "metadata": {
        "id": "mOxXgqxl7r6Z",
        "outputId": "95a58fc7-7195-4709-d786-765d6c9f9f05"
      },
      "outputs": [
        {
          "name": "stdout",
          "output_type": "stream",
          "text": [
            "Krish\n"
          ]
        }
      ],
      "source": [
        "print(person.name)"
      ]
    },
    {
      "cell_type": "code",
      "execution_count": null,
      "metadata": {
        "id": "iBTysusF7r6a"
      },
      "outputs": [],
      "source": [
        "person2=Person(\"Shreyas\",\"Nair\")"
      ]
    },
    {
      "cell_type": "code",
      "execution_count": null,
      "metadata": {
        "id": "GwxRsZUd7r6a",
        "outputId": "5f1bc128-75f5-4d68-fc51-ae02b8df86cf"
      },
      "outputs": [
        {
          "data": {
            "text/plain": [
              "'Shreyas'"
            ]
          },
          "execution_count": 22,
          "metadata": {},
          "output_type": "execute_result"
        }
      ],
      "source": [
        "person2.name"
      ]
    },
    {
      "cell_type": "code",
      "execution_count": null,
      "metadata": {
        "id": "2oty_uOL7r6a",
        "outputId": "4718192d-f9c1-4cfb-c0cb-0321af134a15"
      },
      "outputs": [
        {
          "data": {
            "text/plain": [
              "<__main__.Person at 0x18899974760>"
            ]
          },
          "execution_count": 25,
          "metadata": {},
          "output_type": "execute_result"
        }
      ],
      "source": [
        "person2"
      ]
    },
    {
      "cell_type": "code",
      "execution_count": null,
      "metadata": {
        "id": "r5eBmJG57r6a",
        "outputId": "f86de0d0-ccd9-44bf-9ec3-7b1f8efba510"
      },
      "outputs": [
        {
          "data": {
            "text/plain": [
              "'Nair'"
            ]
          },
          "execution_count": 24,
          "metadata": {},
          "output_type": "execute_result"
        }
      ],
      "source": [
        "person2.last_name"
      ]
    },
    {
      "cell_type": "code",
      "execution_count": null,
      "metadata": {
        "id": "ze08z6dN7r6a"
      },
      "outputs": [],
      "source": [
        "class Person:\n",
        "    def __init__(self,name1,last_name1):\n",
        "        self.name=name1\n",
        "        self.last_name=last_name1\n",
        "    def __str__(self):\n",
        "        return f\"The name is {self.name} and last name is {self.last_name}\"\n"
      ]
    },
    {
      "cell_type": "code",
      "execution_count": null,
      "metadata": {
        "id": "QD3rO8mI7r6a",
        "outputId": "1a9fd62e-ef34-4dba-cb61-8068e1b127d5"
      },
      "outputs": [
        {
          "name": "stdout",
          "output_type": "stream",
          "text": [
            "The name is Krish and last name is NAik\n"
          ]
        }
      ],
      "source": [
        "person1=Person(\"Krish\",\"NAik\")\n",
        "print(person1)"
      ]
    },
    {
      "cell_type": "code",
      "execution_count": null,
      "metadata": {
        "id": "0hzJKdCK7r6b",
        "outputId": "dc52b152-5d40-4139-cdd9-b0b71017abdb"
      },
      "outputs": [
        {
          "data": {
            "text/plain": [
              "'Hello how are you Krish'"
            ]
          },
          "execution_count": 33,
          "metadata": {},
          "output_type": "execute_result"
        }
      ],
      "source": [
        "\"Hello how are you {}\".format(\"Krish\")"
      ]
    },
    {
      "cell_type": "code",
      "execution_count": null,
      "metadata": {
        "id": "Z4BJ1VDb7r6b"
      },
      "outputs": [],
      "source": [
        "## Bank account class and add infor like account number,account hoilde rname and balance"
      ]
    },
    {
      "cell_type": "code",
      "execution_count": null,
      "metadata": {
        "id": "IGn5IM6Y7r6b"
      },
      "outputs": [],
      "source": [
        "class BankAccount:\n",
        "    def __init__(self,account_number,account_holder,balance=0):\n",
        "        self.account_number=account_number\n",
        "        self.account_holder=account_holder\n",
        "        self.balance=balance\n",
        "\n",
        "    def deposit(self,deposit):\n",
        "        self.balance=self.balance + deposit\n",
        "\n",
        "    def withdrawl(self,withdrawl_amt):\n",
        "        if withdrawl_amt <= self.balance:\n",
        "            self.balance=self.balance - withdrawl_amt\n",
        "        else:\n",
        "            print(\"The Balance is less\")\n",
        "\n",
        "\n",
        ""
      ]
    },
    {
      "cell_type": "code",
      "execution_count": null,
      "metadata": {
        "id": "1s92Msmg7r6b"
      },
      "outputs": [],
      "source": [
        "account1=BankAccount(\"1234\",\"Krish Naik\",0)"
      ]
    },
    {
      "cell_type": "code",
      "execution_count": null,
      "metadata": {
        "id": "5jKiUuk37r6b",
        "outputId": "b8f4e5de-9c1b-4b8c-9d77-d4d73a962944"
      },
      "outputs": [
        {
          "data": {
            "text/plain": [
              "['__class__',\n",
              " '__delattr__',\n",
              " '__dict__',\n",
              " '__dir__',\n",
              " '__doc__',\n",
              " '__eq__',\n",
              " '__format__',\n",
              " '__ge__',\n",
              " '__getattribute__',\n",
              " '__gt__',\n",
              " '__hash__',\n",
              " '__init__',\n",
              " '__init_subclass__',\n",
              " '__le__',\n",
              " '__lt__',\n",
              " '__module__',\n",
              " '__ne__',\n",
              " '__new__',\n",
              " '__reduce__',\n",
              " '__reduce_ex__',\n",
              " '__repr__',\n",
              " '__setattr__',\n",
              " '__sizeof__',\n",
              " '__str__',\n",
              " '__subclasshook__',\n",
              " '__weakref__',\n",
              " 'account_holder',\n",
              " 'account_number',\n",
              " 'balance',\n",
              " 'deposit',\n",
              " 'withdrawl']"
            ]
          },
          "execution_count": 55,
          "metadata": {},
          "output_type": "execute_result"
        }
      ],
      "source": [
        "dir(account1)"
      ]
    },
    {
      "cell_type": "code",
      "execution_count": null,
      "metadata": {
        "id": "WCdmfdFW7r6c",
        "outputId": "1654faa7-7028-4949-9a39-12538266c3f7"
      },
      "outputs": [
        {
          "name": "stdout",
          "output_type": "stream",
          "text": [
            "0\n"
          ]
        }
      ],
      "source": [
        "print(account1.balance)"
      ]
    },
    {
      "cell_type": "code",
      "execution_count": null,
      "metadata": {
        "id": "-7Sr2LEJ7r6c"
      },
      "outputs": [],
      "source": [
        "account1.deposit(100)"
      ]
    },
    {
      "cell_type": "code",
      "execution_count": null,
      "metadata": {
        "id": "lAaqcu9P7r6c",
        "outputId": "24ade320-a5f5-4ef8-97b1-ca1810f154a6"
      },
      "outputs": [
        {
          "name": "stdout",
          "output_type": "stream",
          "text": [
            "100\n"
          ]
        }
      ],
      "source": [
        "print(account1.balance)"
      ]
    },
    {
      "cell_type": "code",
      "execution_count": null,
      "metadata": {
        "id": "A7lXToXY7r6c"
      },
      "outputs": [],
      "source": [
        "account1.withdrawl(50)"
      ]
    },
    {
      "cell_type": "code",
      "execution_count": null,
      "metadata": {
        "id": "eWbyIp9J7r6c",
        "outputId": "4a56e73d-c332-4c41-fb89-969e4f1f66dc"
      },
      "outputs": [
        {
          "name": "stdout",
          "output_type": "stream",
          "text": [
            "50\n"
          ]
        }
      ],
      "source": [
        "print(account1.balance)"
      ]
    },
    {
      "cell_type": "code",
      "execution_count": null,
      "metadata": {
        "id": "yKU-WDPH7r6c"
      },
      "outputs": [],
      "source": [
        "class BankAccount:\n",
        "    def __init__(self,account_number, account_holder_name, balance=0):\n",
        "        self.account_number=account_number\n",
        "        self.account_holder_name=account_holder_name\n",
        "        self.balance=balance\n",
        "    def deposit(self,amount):\n",
        "        self.balance+=amount\n"
      ]
    },
    {
      "cell_type": "code",
      "execution_count": null,
      "metadata": {
        "id": "vD5PrsC57r6d"
      },
      "outputs": [],
      "source": [
        "class BankAccount :\n",
        "    def __init__(self,account_number,account_holder_name,balance = 0):\n",
        "        self.account_number = account_number\n",
        "        self.account_holder_name = account_holder_name\n",
        "        self.balance = balance\n",
        "\n",
        "\n",
        "    def deposit (self,amount):\n",
        "        self.balance += amount\n",
        "\n",
        "\n",
        "    def withdrawl(self,withdrawl):\n",
        "        self.balance = self.balance - withdrawl\n",
        "\n",
        "\n",
        "\n"
      ]
    },
    {
      "cell_type": "code",
      "execution_count": null,
      "metadata": {
        "id": "VYGUFG1t7r6d",
        "outputId": "4e4fc5f0-e03d-4318-cb90-e552201d2e02"
      },
      "outputs": [
        {
          "name": "stdout",
          "output_type": "stream",
          "text": [
            "0\n"
          ]
        }
      ],
      "source": [
        "account1 = BankAccount(\"1234\",\"Shruti Joshi\",0)\n",
        "print(account1.balance)"
      ]
    },
    {
      "cell_type": "code",
      "execution_count": null,
      "metadata": {
        "id": "I4VQH5hs7r6d"
      },
      "outputs": [],
      "source": [
        "# Bank Account Class\n",
        "class Bank_account:\n",
        "    def __init__(self, account_holdername, balance, account_number, account_type):\n",
        "        self.account_holdername=account_holdername\n",
        "        self.account_number=account_number\n",
        "        self.balance=balance\n",
        "        self.account_type=account_type\n",
        "\n",
        "    def deposit(self, amount):\n",
        "        self.balance += amount\n",
        "        print(f\"your new balance is {self.balance}\" )\n",
        "\n",
        "    def widrawal(self, amount):\n",
        "        if amount <= self.balance:\n",
        "            self.balance -= amount\n",
        "            print(f\"Your updated balance is {self.balance}\")\n",
        "        else:\n",
        "            print(\"You do not have sufficient funds\")\n",
        "\n",
        "\n"
      ]
    },
    {
      "cell_type": "code",
      "execution_count": null,
      "metadata": {
        "id": "wfgcKjv77r6d"
      },
      "outputs": [],
      "source": [
        "## Class represting a to do list\n",
        "\n",
        "class TodoList:\n",
        "    ## constructor\n",
        "    def __init__(self,owner):\n",
        "        self.owner=owner\n",
        "        self.tasks=[]\n",
        "\n",
        "    def add_task(self,task):\n",
        "        self.tasks.append(task)\n",
        "\n",
        "    def complete_task(self,task):\n",
        "        if task in self.tasks:\n",
        "            self.tasks.remove(task)\n",
        "            print(f\"Task '{task}' completed\")\n",
        "        else:\n",
        "            print(\"The task is not found\")\n",
        "\n",
        "    def display_tasks(self):\n",
        "        print(f\"The todo task of {self.owner}:\")\n",
        "        for task in self.tasks:\n",
        "            print(task)\n",
        "\n",
        ""
      ]
    },
    {
      "cell_type": "code",
      "execution_count": null,
      "metadata": {
        "id": "OSKwUEtI7r6d"
      },
      "outputs": [],
      "source": [
        "krish=TodoList(\"Krissh\")"
      ]
    },
    {
      "cell_type": "code",
      "execution_count": null,
      "metadata": {
        "id": "TxdDhyBG7r6d",
        "outputId": "586b4670-27f7-4113-a02e-558f640333e0"
      },
      "outputs": [
        {
          "data": {
            "text/plain": [
              "[]"
            ]
          },
          "execution_count": 72,
          "metadata": {},
          "output_type": "execute_result"
        }
      ],
      "source": [
        "krish.tasks"
      ]
    },
    {
      "cell_type": "code",
      "execution_count": null,
      "metadata": {
        "id": "6aPcX65t7r6d"
      },
      "outputs": [],
      "source": [
        "krish.add_task(\"I have to teach at 9am with real wworld examples\")"
      ]
    },
    {
      "cell_type": "code",
      "execution_count": null,
      "metadata": {
        "id": "qH-2CV4z7r6d",
        "outputId": "5916d463-3f13-4c07-8899-e67688c28cb9"
      },
      "outputs": [
        {
          "name": "stdout",
          "output_type": "stream",
          "text": [
            "The todo task of Krissh:\n",
            "I have to teach at 9am with real wworld examples\n"
          ]
        }
      ],
      "source": [
        "krish.display_tasks()"
      ]
    },
    {
      "cell_type": "code",
      "execution_count": null,
      "metadata": {
        "id": "0frZnM4z7r6j"
      },
      "outputs": [],
      "source": [
        "krish.add_task(\"12pm need to have lunch\")"
      ]
    },
    {
      "cell_type": "code",
      "execution_count": null,
      "metadata": {
        "id": "Go74yk_Q7r6k",
        "outputId": "f51e6120-7253-4ca1-e977-570a396093d9"
      },
      "outputs": [
        {
          "name": "stdout",
          "output_type": "stream",
          "text": [
            "The todo task of Krissh:\n",
            "I have to teach at 9am with real wworld examples\n",
            "12pm need to have lunch\n"
          ]
        }
      ],
      "source": [
        "krish.display_tasks()"
      ]
    },
    {
      "cell_type": "code",
      "execution_count": null,
      "metadata": {
        "id": "O2EQGcU77r6k",
        "outputId": "ce9ac107-5130-41c3-81c1-7c8192accc0d"
      },
      "outputs": [
        {
          "name": "stdout",
          "output_type": "stream",
          "text": [
            "Task '12pm need to have lunch' completed\n"
          ]
        }
      ],
      "source": [
        "krish.complete_task(\"12pm need to have lunch\")"
      ]
    },
    {
      "cell_type": "code",
      "execution_count": null,
      "metadata": {
        "id": "MWkaMeCC7r6k",
        "outputId": "225b296c-93b7-4ee6-bb83-57147f0b38ea"
      },
      "outputs": [
        {
          "name": "stdout",
          "output_type": "stream",
          "text": [
            "The todo task of Krissh:\n",
            "I have to teach at 9am with real wworld examples\n"
          ]
        }
      ],
      "source": [
        "krish.display_tasks()"
      ]
    },
    {
      "cell_type": "code",
      "execution_count": null,
      "metadata": {
        "id": "hcJdAAMT7r6k"
      },
      "outputs": [],
      "source": [
        "# To-Do List\n",
        "\n",
        "class ToDoList:\n",
        "    # constructor\n",
        "    def __init__(self, owner):\n",
        "        self.owner = owner\n",
        "        self.tasks=[]\n",
        "    def add_task(self,task):\n",
        "        self.tasks.append(task)\n",
        "    def complete_task(self,task):\n",
        "        if task in self.tasks:\n",
        "            self.tasks.remove(task)\n",
        "            print(f\"Task '{task}' Completed\")\n",
        "        else:\n",
        "            print(f\"The task '{task}' not found\")\n",
        "    def display_task(self):\n",
        "        print(f\" The ToDo tasks of {self.owner}:\")\n",
        "        for task in self.tasks:\n",
        "            print(task)\n"
      ]
    },
    {
      "cell_type": "code",
      "execution_count": null,
      "metadata": {
        "id": "lyvIUXB47r6k"
      },
      "outputs": [],
      "source": [
        "class BankAccount:\n",
        "    def __init__(self,account_number1,account_holder1,balance1=0):\n",
        "        self.account_number=account_number1\n",
        "        self.account_holder=account_holder1\n",
        "        self.balance=balance1\n",
        "\n",
        "    def deposit(self,amount):\n",
        "        self.balance+=amount\n",
        "\n",
        "    def withdraw(self,amount):\n",
        "        if amount<=self.balance:\n",
        "            self.balance-=amount\n",
        "        else:\n",
        "            print(\"Insufficient funds\")"
      ]
    },
    {
      "cell_type": "code",
      "execution_count": null,
      "metadata": {
        "id": "NzkXFyX07r6k"
      },
      "outputs": [],
      "source": [
        "person1=BankAccount(1234,\"Krish Naik\")"
      ]
    },
    {
      "cell_type": "code",
      "execution_count": null,
      "metadata": {
        "id": "F6hOwYh37r6k",
        "outputId": "c242d5d2-2d76-455d-b5f2-0acd5cc85c01"
      },
      "outputs": [
        {
          "data": {
            "text/plain": [
              "0"
            ]
          },
          "execution_count": 109,
          "metadata": {},
          "output_type": "execute_result"
        }
      ],
      "source": [
        "person1.balance"
      ]
    },
    {
      "cell_type": "code",
      "execution_count": null,
      "metadata": {
        "id": "fk6mernh7r6k"
      },
      "outputs": [],
      "source": [
        "person1.deposit(100)"
      ]
    },
    {
      "cell_type": "code",
      "execution_count": null,
      "metadata": {
        "id": "Loh5Xi1d7r6k"
      },
      "outputs": [],
      "source": [
        "person1.withdraw(90)"
      ]
    },
    {
      "cell_type": "code",
      "execution_count": null,
      "metadata": {
        "id": "dte_CFjr7r6l",
        "outputId": "75f5ecdf-0802-474a-b0b6-6c194333c270"
      },
      "outputs": [
        {
          "ename": "NameError",
          "evalue": "name 'perosn1' is not defined",
          "output_type": "error",
          "traceback": [
            "\u001b[1;31m---------------------------------------------------------------------------\u001b[0m",
            "\u001b[1;31mNameError\u001b[0m                                 Traceback (most recent call last)",
            "\u001b[1;32m<ipython-input-113-154eca78251f>\u001b[0m in \u001b[0;36m<module>\u001b[1;34m\u001b[0m\n\u001b[1;32m----> 1\u001b[1;33m \u001b[0mperosn1\u001b[0m\u001b[1;33m.\u001b[0m\u001b[0mbalance\u001b[0m\u001b[1;33m\u001b[0m\u001b[1;33m\u001b[0m\u001b[0m\n\u001b[0m",
            "\u001b[1;31mNameError\u001b[0m: name 'perosn1' is not defined"
          ]
        }
      ],
      "source": [
        "person1.balance"
      ]
    },
    {
      "cell_type": "code",
      "execution_count": null,
      "metadata": {
        "id": "cwBw2m187r6l"
      },
      "outputs": [],
      "source": []
    },
    {
      "cell_type": "code",
      "execution_count": null,
      "metadata": {
        "id": "Q0DU-3WP7r6l"
      },
      "outputs": [],
      "source": []
    },
    {
      "cell_type": "code",
      "execution_count": null,
      "metadata": {
        "id": "8gZ3V1hP7r6l"
      },
      "outputs": [],
      "source": []
    }
  ],
  "metadata": {
    "kernelspec": {
      "display_name": "Python 3",
      "language": "python",
      "name": "python3"
    },
    "language_info": {
      "codemirror_mode": {
        "name": "ipython",
        "version": 3
      },
      "file_extension": ".py",
      "mimetype": "text/x-python",
      "name": "python",
      "nbconvert_exporter": "python",
      "pygments_lexer": "ipython3",
      "version": "3.8.5"
    },
    "colab": {
      "provenance": [],
      "include_colab_link": true
    }
  },
  "nbformat": 4,
  "nbformat_minor": 0
}